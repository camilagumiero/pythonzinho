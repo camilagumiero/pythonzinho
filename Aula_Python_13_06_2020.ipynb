{
  "nbformat": 4,
  "nbformat_minor": 0,
  "metadata": {
    "kernelspec": {
      "display_name": "Python 3",
      "language": "python",
      "name": "python3"
    },
    "language_info": {
      "codemirror_mode": {
        "name": "ipython",
        "version": 3
      },
      "file_extension": ".py",
      "mimetype": "text/x-python",
      "name": "python",
      "nbconvert_exporter": "python",
      "pygments_lexer": "ipython3",
      "version": "3.7.4"
    },
    "colab": {
      "name": "Aula Python 13_06_2020.ipynb",
      "provenance": []
    }
  },
  "cells": [
    {
      "cell_type": "markdown",
      "metadata": {
        "id": "YXB40MM2IkPD",
        "colab_type": "text"
      },
      "source": [
        "# Aula 13/06/2020 - Python\n",
        "### Prof. Rodrigo Sucupira / [sucupira.rodrigo@gmail.com](mailto:sucupira.rodrigo@gmail.com) \n",
        "\n",
        "## [GitHub Pythonzinho](https://github.com/rsucupira/Pythonzinho) / [www.pythonzinho.com.br](http://www.pythonzinho.com.br)"
      ]
    },
    {
      "cell_type": "markdown",
      "metadata": {
        "id": "CAc1cl2tIkPE",
        "colab_type": "text"
      },
      "source": [
        "- Aluno: (nome do aluno) / (email do aluno)\n",
        "- [GitHub](https://github.com/)"
      ]
    },
    {
      "cell_type": "markdown",
      "metadata": {
        "id": "Rt2g9ZvBIkPH",
        "colab_type": "text"
      },
      "source": [
        "### 01) Operações Básicas / Calculadora\n",
        "#### 01.1) Adição              (+)"
      ]
    },
    {
      "cell_type": "code",
      "metadata": {
        "id": "dTjPqHusIkPI",
        "colab_type": "code",
        "colab": {}
      },
      "source": [
        "1+2"
      ],
      "execution_count": null,
      "outputs": []
    },
    {
      "cell_type": "markdown",
      "metadata": {
        "id": "swm4oVCoIkPO",
        "colab_type": "text"
      },
      "source": [
        "**Ex 01:** Na celula abaixo insira uma **adição** e depois clique no botão \"Run\":"
      ]
    },
    {
      "cell_type": "code",
      "metadata": {
        "id": "T7PeN_hPIkPP",
        "colab_type": "code",
        "colab": {}
      },
      "source": [
        ""
      ],
      "execution_count": null,
      "outputs": []
    },
    {
      "cell_type": "markdown",
      "metadata": {
        "id": "G_8reCLgIkPR",
        "colab_type": "text"
      },
      "source": [
        "#### 01.2) Subtração           (-)"
      ]
    },
    {
      "cell_type": "code",
      "metadata": {
        "id": "gl15hZbpIkPS",
        "colab_type": "code",
        "colab": {}
      },
      "source": [
        "5-2"
      ],
      "execution_count": null,
      "outputs": []
    },
    {
      "cell_type": "markdown",
      "metadata": {
        "id": "EvVzu5haIkPU",
        "colab_type": "text"
      },
      "source": [
        "**Ex 02:** Na celula abaixo insira uma **subtração** e depois clique no botão \"Run\":"
      ]
    },
    {
      "cell_type": "code",
      "metadata": {
        "id": "YZILJTw_IkPV",
        "colab_type": "code",
        "colab": {}
      },
      "source": [
        ""
      ],
      "execution_count": null,
      "outputs": []
    },
    {
      "cell_type": "markdown",
      "metadata": {
        "id": "t3Y3qZqaIkPX",
        "colab_type": "text"
      },
      "source": [
        "#### 01.3) Multiplicação       (*)"
      ]
    },
    {
      "cell_type": "code",
      "metadata": {
        "id": "YSXY43JKIkPX",
        "colab_type": "code",
        "colab": {}
      },
      "source": [
        "3*5"
      ],
      "execution_count": null,
      "outputs": []
    },
    {
      "cell_type": "markdown",
      "metadata": {
        "id": "kXaWg3kdIkPa",
        "colab_type": "text"
      },
      "source": [
        "**Ex 03:** Na celula abaixo insira uma **multiplicação** e depois clique no botão \"Run\":"
      ]
    },
    {
      "cell_type": "code",
      "metadata": {
        "id": "t0c4f2gvIkPa",
        "colab_type": "code",
        "colab": {}
      },
      "source": [
        ""
      ],
      "execution_count": null,
      "outputs": []
    },
    {
      "cell_type": "markdown",
      "metadata": {
        "id": "pLTl842_IkPc",
        "colab_type": "text"
      },
      "source": [
        "#### 01.4) Divisão             (/)"
      ]
    },
    {
      "cell_type": "code",
      "metadata": {
        "id": "pZeXZ85iIkPe",
        "colab_type": "code",
        "colab": {}
      },
      "source": [
        "20/4"
      ],
      "execution_count": null,
      "outputs": []
    },
    {
      "cell_type": "markdown",
      "metadata": {
        "id": "TMVfk0dmIkPg",
        "colab_type": "text"
      },
      "source": [
        "**Ex 04:** Na celula abaixo insira uma **divisão** e depois clique no botão \"Run\":"
      ]
    },
    {
      "cell_type": "code",
      "metadata": {
        "id": "bDqLe2T2IkPh",
        "colab_type": "code",
        "colab": {}
      },
      "source": [
        ""
      ],
      "execution_count": null,
      "outputs": []
    },
    {
      "cell_type": "markdown",
      "metadata": {
        "id": "zA-YtGLlIkPi",
        "colab_type": "text"
      },
      "source": [
        "#### 01.5) Potência            (**)"
      ]
    },
    {
      "cell_type": "code",
      "metadata": {
        "id": "V8PN-tbPIkPj",
        "colab_type": "code",
        "colab": {}
      },
      "source": [
        "2**3"
      ],
      "execution_count": null,
      "outputs": []
    },
    {
      "cell_type": "markdown",
      "metadata": {
        "id": "1ifb89WsIkPl",
        "colab_type": "text"
      },
      "source": [
        "**Ex 05:** Na celula abaixo insira uma operação **potência** e depois clique no botão \"Run\":"
      ]
    },
    {
      "cell_type": "code",
      "metadata": {
        "id": "jEaptGVCIkPm",
        "colab_type": "code",
        "colab": {}
      },
      "source": [
        ""
      ],
      "execution_count": null,
      "outputs": []
    },
    {
      "cell_type": "markdown",
      "metadata": {
        "id": "c4XzlMWhIkPo",
        "colab_type": "text"
      },
      "source": [
        "#### 01.6) Resto               (%)"
      ]
    },
    {
      "cell_type": "code",
      "metadata": {
        "id": "ORdLQWd_IkPp",
        "colab_type": "code",
        "colab": {}
      },
      "source": [
        "10%3"
      ],
      "execution_count": null,
      "outputs": []
    },
    {
      "cell_type": "markdown",
      "metadata": {
        "id": "wbmjzEWgIkPr",
        "colab_type": "text"
      },
      "source": [
        "**Ex 06:** Na celula abaixo insira uma operação **resto** e depois clique no botão \"Run\":"
      ]
    },
    {
      "cell_type": "code",
      "metadata": {
        "id": "TL1sWK2MIkPs",
        "colab_type": "code",
        "colab": {}
      },
      "source": [
        ""
      ],
      "execution_count": null,
      "outputs": []
    },
    {
      "cell_type": "markdown",
      "metadata": {
        "id": "AC_aoP1vIkPu",
        "colab_type": "text"
      },
      "source": [
        "#### 01.7) Comentário          (#)"
      ]
    },
    {
      "cell_type": "code",
      "metadata": {
        "id": "NMeggWwQIkPv",
        "colab_type": "code",
        "colab": {}
      },
      "source": [
        "# Este é um comentário"
      ],
      "execution_count": null,
      "outputs": []
    },
    {
      "cell_type": "markdown",
      "metadata": {
        "id": "9e7C7v2sIkPx",
        "colab_type": "text"
      },
      "source": [
        "Note que rodar este exemplo não retorna nenhum valor, por se tratar de um comentário"
      ]
    },
    {
      "cell_type": "markdown",
      "metadata": {
        "id": "TMCcs1rsIkPx",
        "colab_type": "text"
      },
      "source": [
        "**Ex 07:** Na celula abaixo insira um **comentário** e depois clique no botão \"Run\":"
      ]
    },
    {
      "cell_type": "code",
      "metadata": {
        "id": "cJkLBhXUIkPy",
        "colab_type": "code",
        "colab": {}
      },
      "source": [
        ""
      ],
      "execution_count": null,
      "outputs": []
    },
    {
      "cell_type": "markdown",
      "metadata": {
        "id": "vup5XAmFIkP0",
        "colab_type": "text"
      },
      "source": [
        "## 02) Print\n",
        "A função `print` é normalmente utilizada para amostrar uma *string* (cadeia de caracteres):"
      ]
    },
    {
      "cell_type": "code",
      "metadata": {
        "id": "K5u5pMZQIkP0",
        "colab_type": "code",
        "colab": {}
      },
      "source": [
        "print(\"Olá Mundo\")"
      ],
      "execution_count": null,
      "outputs": []
    },
    {
      "cell_type": "markdown",
      "metadata": {
        "id": "5UGIlCNGIkP3",
        "colab_type": "text"
      },
      "source": [
        "#### Função:\n",
        "A ideia básica de uma função, é encapsular um código que poderá ser invocado/chamado por qualquer outro trecho do programa. Seu significado e uso é muito parecido com o de funções matemáticas, ou seja, existe um nome, uma definição e posterior invocação à função."
      ]
    },
    {
      "cell_type": "markdown",
      "metadata": {
        "id": "MYxfGYGeIkP4",
        "colab_type": "text"
      },
      "source": [
        "**Ex 08:** escreva um código que amostra o seu nome e depois clique no botão \"Run\":"
      ]
    },
    {
      "cell_type": "code",
      "metadata": {
        "id": "0nvXZwZsIkP4",
        "colab_type": "code",
        "colab": {}
      },
      "source": [
        ""
      ],
      "execution_count": null,
      "outputs": []
    },
    {
      "cell_type": "markdown",
      "metadata": {
        "id": "qzSh2XXCIkP6",
        "colab_type": "text"
      },
      "source": [
        "## 03) Variáveis\n",
        "Variáveis são **\"objetos\"** que você cria e armazena informação \n",
        "\n",
        "Voçê pode definir variáveis usando o símbolo igual (=):"
      ]
    },
    {
      "cell_type": "code",
      "metadata": {
        "id": "cG6NnCDPIkP6",
        "colab_type": "code",
        "colab": {}
      },
      "source": [
        "x = 10\n",
        "print(x)"
      ],
      "execution_count": null,
      "outputs": []
    },
    {
      "cell_type": "markdown",
      "metadata": {
        "id": "18fRK7KiIkP8",
        "colab_type": "text"
      },
      "source": [
        "a variável criada acima é conhecida como **integer** que quer dizer numero inteiro"
      ]
    },
    {
      "cell_type": "code",
      "metadata": {
        "id": "PRAtyzFDIkP8",
        "colab_type": "code",
        "colab": {}
      },
      "source": [
        "x"
      ],
      "execution_count": null,
      "outputs": []
    },
    {
      "cell_type": "markdown",
      "metadata": {
        "id": "mdl7TT76IkQA",
        "colab_type": "text"
      },
      "source": [
        "reparem na celula acima que outra forma de amostrar alguma variável é colocar ela em uma celula e rodar"
      ]
    },
    {
      "cell_type": "code",
      "metadata": {
        "id": "r1K_4BF_IkQA",
        "colab_type": "code",
        "colab": {}
      },
      "source": [
        "texto = \"Olá mundo\"\n",
        "print(texto)"
      ],
      "execution_count": null,
      "outputs": []
    },
    {
      "cell_type": "markdown",
      "metadata": {
        "id": "R51esO_-IkQC",
        "colab_type": "text"
      },
      "source": [
        "a variável criada acima é conhecida como **string** que significa texto ou cadeia de caracteres"
      ]
    },
    {
      "cell_type": "markdown",
      "metadata": {
        "id": "ewl8JSzvIkQC",
        "colab_type": "text"
      },
      "source": [
        "**Ex 09:** escreva um código que armazena o seu nome em uma variável e depois amostra a variável criada."
      ]
    },
    {
      "cell_type": "code",
      "metadata": {
        "id": "dxi9OHymIkQC",
        "colab_type": "code",
        "colab": {}
      },
      "source": [
        ""
      ],
      "execution_count": null,
      "outputs": []
    },
    {
      "cell_type": "markdown",
      "metadata": {
        "id": "tfHyqPbxIkQF",
        "colab_type": "text"
      },
      "source": [
        "## 04) Tipos de variáveis\n",
        "Vamos apresentar as quatro principais variáveis que utilizamos em um código:\n",
        "- Integer\n",
        "- Float\n",
        "- String\n",
        "- Boolean\n",
        "\n",
        "### 04.1) Integer & Float\n",
        "para trabalhar com numeros temos dois tipos de variáveis, os numeros inteiros ou **integer** e os numeros reais ou **float**, "
      ]
    },
    {
      "cell_type": "code",
      "metadata": {
        "id": "HNrkddzVIkQF",
        "colab_type": "code",
        "colab": {}
      },
      "source": [
        "numero_01 = 1 # exemplo de inteiro\n",
        "numero_01"
      ],
      "execution_count": null,
      "outputs": []
    },
    {
      "cell_type": "code",
      "metadata": {
        "id": "DhvJsMraIkQO",
        "colab_type": "code",
        "colab": {}
      },
      "source": [
        "numero_02 = 1.0 # exemplo de float\n",
        "numero_02"
      ],
      "execution_count": null,
      "outputs": []
    },
    {
      "cell_type": "markdown",
      "metadata": {
        "id": "eDOWJiO7IkQS",
        "colab_type": "text"
      },
      "source": [
        "reparem que ao colocar um ponto no final do numero automaticamente eu tranformo ele num número real."
      ]
    },
    {
      "cell_type": "code",
      "metadata": {
        "id": "sF6ZKgIwIkQS",
        "colab_type": "code",
        "colab": {}
      },
      "source": [
        "x = 10/3\n",
        "x"
      ],
      "execution_count": null,
      "outputs": []
    },
    {
      "cell_type": "markdown",
      "metadata": {
        "id": "k3pKuAJmIkQU",
        "colab_type": "text"
      },
      "source": [
        "### 04.2) Função int() e float()\n",
        "para tranformar uma variável em inteiro utilizamos a função **int()** e para transformar em um numero real utilizamos a função **float()**"
      ]
    },
    {
      "cell_type": "code",
      "metadata": {
        "id": "1l5JCFecIkQU",
        "colab_type": "code",
        "colab": {}
      },
      "source": [
        "int(2.3)"
      ],
      "execution_count": null,
      "outputs": []
    },
    {
      "cell_type": "code",
      "metadata": {
        "id": "Z9u-UKy3IkQV",
        "colab_type": "code",
        "colab": {}
      },
      "source": [
        "int(\"olá\")"
      ],
      "execution_count": null,
      "outputs": []
    },
    {
      "cell_type": "code",
      "metadata": {
        "id": "znQEiiO_IkQX",
        "colab_type": "code",
        "colab": {}
      },
      "source": [
        "float(2)"
      ],
      "execution_count": null,
      "outputs": []
    },
    {
      "cell_type": "markdown",
      "metadata": {
        "id": "BOU0UHIUIkQZ",
        "colab_type": "text"
      },
      "source": [
        "reparem que observamos um erro ao tentar transformar uma cadeia de caracteres em um numero inteiro."
      ]
    },
    {
      "cell_type": "markdown",
      "metadata": {
        "id": "EAjBuv_QIkQZ",
        "colab_type": "text"
      },
      "source": [
        "### 04.2) Função type()\n",
        "para saber qual o tipo da variável utilizamos a função **type()** "
      ]
    },
    {
      "cell_type": "code",
      "metadata": {
        "id": "5ubfljouIkQa",
        "colab_type": "code",
        "colab": {}
      },
      "source": [
        "type(2)"
      ],
      "execution_count": null,
      "outputs": []
    },
    {
      "cell_type": "code",
      "metadata": {
        "id": "F7Jk6wU1IkQb",
        "colab_type": "code",
        "colab": {}
      },
      "source": [
        "type(1.2)"
      ],
      "execution_count": null,
      "outputs": []
    },
    {
      "cell_type": "markdown",
      "metadata": {
        "id": "TQ4MNxhqIkQd",
        "colab_type": "text"
      },
      "source": [
        "**Ex 10:** escreva um código que armazena um numero real em uma variável e depois amostra o tipo da variável criada."
      ]
    },
    {
      "cell_type": "code",
      "metadata": {
        "id": "lgyClIWJIkQd",
        "colab_type": "code",
        "colab": {}
      },
      "source": [
        ""
      ],
      "execution_count": null,
      "outputs": []
    },
    {
      "cell_type": "markdown",
      "metadata": {
        "id": "_11iATY3IkQg",
        "colab_type": "text"
      },
      "source": [
        "### 04.3) Strings\n",
        "O tipo de variável que utilizamos para trabalhar com texto é conhecida como **string**."
      ]
    },
    {
      "cell_type": "markdown",
      "metadata": {
        "id": "zERL-WyWIkQg",
        "colab_type": "text"
      },
      "source": [
        "**Ex 11:** escreva um código que armazena um texto em uma variável, depois amostra o tipo da variável criada."
      ]
    },
    {
      "cell_type": "code",
      "metadata": {
        "id": "5MeKimusIkQg",
        "colab_type": "code",
        "colab": {}
      },
      "source": [
        ""
      ],
      "execution_count": null,
      "outputs": []
    },
    {
      "cell_type": "markdown",
      "metadata": {
        "id": "vHwykPrVIkQi",
        "colab_type": "text"
      },
      "source": [
        "### 04.4) Função str()\n",
        "para converter uma variável em **string** utilizamos a função **str()** "
      ]
    },
    {
      "cell_type": "code",
      "metadata": {
        "id": "VU184xjSIkQi",
        "colab_type": "code",
        "colab": {}
      },
      "source": [
        "x = 1\n",
        "type(x)"
      ],
      "execution_count": null,
      "outputs": []
    },
    {
      "cell_type": "code",
      "metadata": {
        "id": "l_DZuB26IkQk",
        "colab_type": "code",
        "colab": {}
      },
      "source": [
        "y = str(x)\n",
        "type(y)"
      ],
      "execution_count": null,
      "outputs": []
    },
    {
      "cell_type": "markdown",
      "metadata": {
        "id": "Igb0_pShIkQm",
        "colab_type": "text"
      },
      "source": [
        "**Ex 12:** escreva um código que armazena um **float** ou numero real em uma variável e depois converte em uma **string** ou texto."
      ]
    },
    {
      "cell_type": "code",
      "metadata": {
        "id": "3vWpkP8gIkQm",
        "colab_type": "code",
        "colab": {}
      },
      "source": [
        ""
      ],
      "execution_count": null,
      "outputs": []
    },
    {
      "cell_type": "markdown",
      "metadata": {
        "id": "_3Lo3OjsIkQo",
        "colab_type": "text"
      },
      "source": [
        "### 04.5) Trabalhando com strings\n",
        "#### 04.5.1) Concatenar +"
      ]
    },
    {
      "cell_type": "code",
      "metadata": {
        "id": "XaQknpSDIkQp",
        "colab_type": "code",
        "colab": {}
      },
      "source": [
        "'a' + 'b'"
      ],
      "execution_count": null,
      "outputs": []
    },
    {
      "cell_type": "markdown",
      "metadata": {
        "id": "AIbvSNpSIkQs",
        "colab_type": "text"
      },
      "source": [
        "**Ex 13:** escreva um código que armazena o seu primeiro nome em uma variável e o seu sobrenome em outra variável e depois amostra o seu nome concatenado com o seu sobrenome, contendo um espaço entre eles, armazenando em uma terceira variável."
      ]
    },
    {
      "cell_type": "code",
      "metadata": {
        "id": "6gbcYT8EIkQs",
        "colab_type": "code",
        "colab": {}
      },
      "source": [
        ""
      ],
      "execution_count": null,
      "outputs": []
    },
    {
      "cell_type": "markdown",
      "metadata": {
        "id": "S66slC6PIkQw",
        "colab_type": "text"
      },
      "source": [
        "#### 04.5.2) Tamanho len()"
      ]
    },
    {
      "cell_type": "code",
      "metadata": {
        "id": "oghcZovpIkQw",
        "colab_type": "code",
        "colab": {}
      },
      "source": [
        "len('abc')"
      ],
      "execution_count": null,
      "outputs": []
    },
    {
      "cell_type": "markdown",
      "metadata": {
        "id": "a3EMAPkgIkQy",
        "colab_type": "text"
      },
      "source": [
        "**Ex 14:** escreva um código que amostra o tamanho do texto gerano no **Ex 13**."
      ]
    },
    {
      "cell_type": "code",
      "metadata": {
        "id": "a45X7v9pIkQz",
        "colab_type": "code",
        "colab": {}
      },
      "source": [
        ""
      ],
      "execution_count": null,
      "outputs": []
    },
    {
      "cell_type": "markdown",
      "metadata": {
        "id": "_ffxib7PIkQ3",
        "colab_type": "text"
      },
      "source": [
        "#### 04.5.3) Posição []"
      ]
    },
    {
      "cell_type": "code",
      "metadata": {
        "id": "bp0khe3kIkQ3",
        "colab_type": "code",
        "colab": {}
      },
      "source": [
        "texto = 'AaBbCcDdEe'\n",
        "texto[0]"
      ],
      "execution_count": null,
      "outputs": []
    },
    {
      "cell_type": "code",
      "metadata": {
        "id": "bx_qTgcIIkQ5",
        "colab_type": "code",
        "colab": {}
      },
      "source": [
        "texto[2:4]"
      ],
      "execution_count": null,
      "outputs": []
    },
    {
      "cell_type": "markdown",
      "metadata": {
        "id": "MBbtaaLRIkQ8",
        "colab_type": "text"
      },
      "source": [
        "**Ex 15:** escreva um código que amostra um intervalo qualquer de tamanho 3 do texto gerado no **Ex 13**."
      ]
    },
    {
      "cell_type": "code",
      "metadata": {
        "id": "Lunu_L-VIkQ8",
        "colab_type": "code",
        "colab": {}
      },
      "source": [
        ""
      ],
      "execution_count": null,
      "outputs": []
    },
    {
      "cell_type": "markdown",
      "metadata": {
        "id": "NH2RIBoKIkQ-",
        "colab_type": "text"
      },
      "source": [
        "#### 04.5.4) Substituir .replace()"
      ]
    },
    {
      "cell_type": "code",
      "metadata": {
        "id": "Yk5xJqi7IkQ-",
        "colab_type": "code",
        "colab": {}
      },
      "source": [
        "texto.replace('c','j')"
      ],
      "execution_count": null,
      "outputs": []
    },
    {
      "cell_type": "markdown",
      "metadata": {
        "id": "F5P82w6qIkRA",
        "colab_type": "text"
      },
      "source": [
        "**Ex 16:** escreva um código que utilize o texto gerado no **Ex 13**, substituindo o seu sobrenome por outro texto."
      ]
    },
    {
      "cell_type": "code",
      "metadata": {
        "id": "iOwlDy-CIkRB",
        "colab_type": "code",
        "colab": {}
      },
      "source": [
        ""
      ],
      "execution_count": null,
      "outputs": []
    },
    {
      "cell_type": "markdown",
      "metadata": {
        "id": "vHUPrtHiIkRC",
        "colab_type": "text"
      },
      "source": [
        "#### 04.5.5) Encontrar .find()"
      ]
    },
    {
      "cell_type": "code",
      "metadata": {
        "id": "JOepD0y8IkRD",
        "colab_type": "code",
        "colab": {}
      },
      "source": [
        "texto.find('b')"
      ],
      "execution_count": null,
      "outputs": []
    },
    {
      "cell_type": "markdown",
      "metadata": {
        "id": "03SVoa1nIkRF",
        "colab_type": "text"
      },
      "source": [
        "**Ex 17:** escreva um código que utilize o texto gerado no **Ex 13**, buscando a localização do espaço \" \" ."
      ]
    },
    {
      "cell_type": "code",
      "metadata": {
        "id": "U2F9Dck8IkRF",
        "colab_type": "code",
        "colab": {}
      },
      "source": [
        ""
      ],
      "execution_count": null,
      "outputs": []
    },
    {
      "cell_type": "markdown",
      "metadata": {
        "id": "_s6uQ5dAIkRH",
        "colab_type": "text"
      },
      "source": [
        "#### 04.5.6) Contar .count()"
      ]
    },
    {
      "cell_type": "code",
      "metadata": {
        "id": "LsKGku7QIkRI",
        "colab_type": "code",
        "colab": {}
      },
      "source": [
        "texto.count('A')"
      ],
      "execution_count": null,
      "outputs": []
    },
    {
      "cell_type": "markdown",
      "metadata": {
        "id": "XmIw3jCUIkRO",
        "colab_type": "text"
      },
      "source": [
        "**Ex 18:** escreva um código que utilize o texto gerado no **Ex 13**, contando quantos caracteres tem nele."
      ]
    },
    {
      "cell_type": "code",
      "metadata": {
        "id": "gO2BJhH_IkRO",
        "colab_type": "code",
        "colab": {}
      },
      "source": [
        ""
      ],
      "execution_count": null,
      "outputs": []
    },
    {
      "cell_type": "markdown",
      "metadata": {
        "id": "H0Oy6tMDIkRP",
        "colab_type": "text"
      },
      "source": [
        "#### 04.5.7) MAIÚSCULO .upper()"
      ]
    },
    {
      "cell_type": "code",
      "metadata": {
        "id": "NRL3VnYxIkRP",
        "colab_type": "code",
        "colab": {}
      },
      "source": [
        "texto.upper()"
      ],
      "execution_count": null,
      "outputs": []
    },
    {
      "cell_type": "markdown",
      "metadata": {
        "id": "og8PeGK-IkRR",
        "colab_type": "text"
      },
      "source": [
        "**Ex 19:** escreva um código que utilize o texto gerado no **Ex 13**, transformando tudo em maiúculo."
      ]
    },
    {
      "cell_type": "code",
      "metadata": {
        "id": "w6bbvTlxIkRS",
        "colab_type": "code",
        "colab": {}
      },
      "source": [
        ""
      ],
      "execution_count": null,
      "outputs": []
    },
    {
      "cell_type": "markdown",
      "metadata": {
        "id": "bovbPs0GIkRU",
        "colab_type": "text"
      },
      "source": [
        "#### 04.5.8) minúsculo .lower()"
      ]
    },
    {
      "cell_type": "code",
      "metadata": {
        "id": "eo_JFAcoIkRU",
        "colab_type": "code",
        "colab": {}
      },
      "source": [
        "texto.lower()"
      ],
      "execution_count": null,
      "outputs": []
    },
    {
      "cell_type": "markdown",
      "metadata": {
        "id": "Cw9tjZASIkRW",
        "colab_type": "text"
      },
      "source": [
        "**Ex 20:** escreva um código que utilize o texto gerado no **Ex 13**, transformando tudo em minúsculo."
      ]
    },
    {
      "cell_type": "code",
      "metadata": {
        "id": "BbEQKpNxIkRX",
        "colab_type": "code",
        "colab": {}
      },
      "source": [
        ""
      ],
      "execution_count": null,
      "outputs": []
    },
    {
      "cell_type": "markdown",
      "metadata": {
        "id": "FSRJg9fuIkRZ",
        "colab_type": "text"
      },
      "source": [
        "#### 04.5.9) Capitalizar .capitalize()"
      ]
    },
    {
      "cell_type": "code",
      "metadata": {
        "id": "QOvHjKUoIkRa",
        "colab_type": "code",
        "colab": {}
      },
      "source": [
        "texto.capitalize()"
      ],
      "execution_count": null,
      "outputs": []
    },
    {
      "cell_type": "markdown",
      "metadata": {
        "id": "EDNazv9RIkRb",
        "colab_type": "text"
      },
      "source": [
        "**Ex 21:** escreva um código que utilize o texto gerado no **Ex 13**, capitalizando."
      ]
    },
    {
      "cell_type": "code",
      "metadata": {
        "id": "EzILftM1IkRb",
        "colab_type": "code",
        "colab": {}
      },
      "source": [
        ""
      ],
      "execution_count": null,
      "outputs": []
    },
    {
      "cell_type": "markdown",
      "metadata": {
        "id": "lku_CuW_IkRd",
        "colab_type": "text"
      },
      "source": [
        "### 04.6) Booleano\n",
        "Para trabalhar com lógicas, verdadeiro e falso, utilizamos as variáveis booleanas"
      ]
    },
    {
      "cell_type": "code",
      "metadata": {
        "id": "Abipb-2sIkRd",
        "colab_type": "code",
        "colab": {}
      },
      "source": [
        "x = True\n",
        "print(x)"
      ],
      "execution_count": null,
      "outputs": []
    },
    {
      "cell_type": "markdown",
      "metadata": {
        "id": "WQogoMmDIkRf",
        "colab_type": "text"
      },
      "source": [
        "**Ex 22:** Verifique qual é o tipo da variável **x**."
      ]
    },
    {
      "cell_type": "code",
      "metadata": {
        "id": "z-pG30_6IkRf",
        "colab_type": "code",
        "colab": {}
      },
      "source": [
        ""
      ],
      "execution_count": null,
      "outputs": []
    },
    {
      "cell_type": "code",
      "metadata": {
        "id": "yYKPTvJlIkRi",
        "colab_type": "code",
        "colab": {}
      },
      "source": [
        "1 > 2"
      ],
      "execution_count": null,
      "outputs": []
    },
    {
      "cell_type": "code",
      "metadata": {
        "id": "Eod-oSNKIkRk",
        "colab_type": "code",
        "colab": {}
      },
      "source": [
        "x = 1\n",
        "x == 2"
      ],
      "execution_count": null,
      "outputs": []
    },
    {
      "cell_type": "code",
      "metadata": {
        "id": "PyI0XDFOIkRl",
        "colab_type": "code",
        "colab": {}
      },
      "source": [
        "x == 1"
      ],
      "execution_count": null,
      "outputs": []
    },
    {
      "cell_type": "code",
      "metadata": {
        "id": "15Y044SNIkRm",
        "colab_type": "code",
        "colab": {}
      },
      "source": [
        "y = x == 1\n",
        "print(y)"
      ],
      "execution_count": null,
      "outputs": []
    },
    {
      "cell_type": "markdown",
      "metadata": {
        "id": "pcwvDwUMIkRn",
        "colab_type": "text"
      },
      "source": [
        "**Ex 23:** Escreva um código que verifica se um número é igual ao mesmo número somado com 1."
      ]
    },
    {
      "cell_type": "code",
      "metadata": {
        "id": "2uHSuJ5rIkRo",
        "colab_type": "code",
        "colab": {}
      },
      "source": [
        ""
      ],
      "execution_count": null,
      "outputs": []
    },
    {
      "cell_type": "markdown",
      "metadata": {
        "id": "bqUV0uZeIkRr",
        "colab_type": "text"
      },
      "source": [
        "#### 04.6.1) Contém  => in"
      ]
    },
    {
      "cell_type": "code",
      "metadata": {
        "id": "L7WHejihIkRr",
        "colab_type": "code",
        "colab": {}
      },
      "source": [
        "'a' in texto"
      ],
      "execution_count": null,
      "outputs": []
    },
    {
      "cell_type": "markdown",
      "metadata": {
        "id": "Enn2z6TZIkRs",
        "colab_type": "text"
      },
      "source": [
        "**Ex 24:** Escreva um código que verifica se a letra \"j\" contem no texto."
      ]
    },
    {
      "cell_type": "code",
      "metadata": {
        "id": "X-cLEjCNIkRs",
        "colab_type": "code",
        "colab": {}
      },
      "source": [
        ""
      ],
      "execution_count": null,
      "outputs": []
    },
    {
      "cell_type": "markdown",
      "metadata": {
        "id": "DYfv9tyAIkRv",
        "colab_type": "text"
      },
      "source": [
        "## 05) Input\n",
        "Muitas vezes um código precisa de informações externas, como uma calculadora que pode receber sempre numeros diferentes. Para criar esta flexibilidade, utilizamos a função **input**, que traduzindo significa **entrada**."
      ]
    },
    {
      "cell_type": "code",
      "metadata": {
        "id": "Tnx40YuxIkRv",
        "colab_type": "code",
        "colab": {}
      },
      "source": [
        "texto_02 = input(\"insira um texto: \")\n",
        "print(texto_02)"
      ],
      "execution_count": null,
      "outputs": []
    },
    {
      "cell_type": "code",
      "metadata": {
        "id": "EWDG0GM-IkRw",
        "colab_type": "code",
        "colab": {}
      },
      "source": [
        ""
      ],
      "execution_count": null,
      "outputs": []
    },
    {
      "cell_type": "markdown",
      "metadata": {
        "id": "1N0wv5FWIkRx",
        "colab_type": "text"
      },
      "source": [
        "Atenção: todos os valores que a função **input** recebe são do tipo **string**, caso deseje trabalhar com numeros, deverá converter.\n",
        "Utilize o código abaixo para testar uma entrada de um numero somado com 1."
      ]
    },
    {
      "cell_type": "code",
      "metadata": {
        "id": "vAbKgTiIIkRx",
        "colab_type": "code",
        "colab": {}
      },
      "source": [
        "numero = input(\"insira um numero: \")\n",
        "numero = numero + 1"
      ],
      "execution_count": null,
      "outputs": []
    },
    {
      "cell_type": "markdown",
      "metadata": {
        "id": "HctWwt9XIkR1",
        "colab_type": "text"
      },
      "source": [
        "O código acima irá apresentar um erro, pois não é possivel somar um **integer** com uma **string**"
      ]
    },
    {
      "cell_type": "markdown",
      "metadata": {
        "id": "jHjNtADKIkR1",
        "colab_type": "text"
      },
      "source": [
        "**Ex 25:** escreva um código que armazena um **input** em uma variável, converte ele em um numero real e por fim amostra ele."
      ]
    },
    {
      "cell_type": "code",
      "metadata": {
        "id": "29w5L8jEIkR1",
        "colab_type": "code",
        "colab": {}
      },
      "source": [
        ""
      ],
      "execution_count": null,
      "outputs": []
    },
    {
      "cell_type": "markdown",
      "metadata": {
        "id": "WZIHtQKNIkR4",
        "colab_type": "text"
      },
      "source": [
        "**Ex 26:** Ajude a sua mãe na feira, escreva um código que:\n",
        "- recebe um input de quantidade de laranjas.\n",
        "- recebe um input de preço da laranja.\n",
        "- calcula o custo total.\n",
        "obs: deve aceitar valores reais e não inteiros."
      ]
    },
    {
      "cell_type": "code",
      "metadata": {
        "id": "jOATC8B5IkR4",
        "colab_type": "code",
        "colab": {}
      },
      "source": [
        ""
      ],
      "execution_count": null,
      "outputs": []
    },
    {
      "cell_type": "markdown",
      "metadata": {
        "id": "rw6Y5h8SIkR5",
        "colab_type": "text"
      },
      "source": [
        "## 06) Comparações -> IF / ELSE / ELIF\n",
        "\n",
        "Muitas vezes precisamos realizar comparações e para isso utilizamos o recurso IF."
      ]
    },
    {
      "cell_type": "markdown",
      "metadata": {
        "id": "PgZ01C8oIkR6",
        "colab_type": "text"
      },
      "source": [
        "Para utilizar o **if** precisamos colocar um booleano e dois pontos (:)"
      ]
    },
    {
      "cell_type": "code",
      "metadata": {
        "id": "JzkYLPNmIkR6",
        "colab_type": "code",
        "colab": {}
      },
      "source": [
        "numero = 3\n",
        "if numero > 2:\n",
        "    print('o número é maior que 2')"
      ],
      "execution_count": null,
      "outputs": []
    },
    {
      "cell_type": "markdown",
      "metadata": {
        "id": "vpSaqaeXIkR7",
        "colab_type": "text"
      },
      "source": [
        "Note que abaixo do **if** existe um espaço onde o código será rodado."
      ]
    },
    {
      "cell_type": "markdown",
      "metadata": {
        "id": "4xbLSL1HIkR7",
        "colab_type": "text"
      },
      "source": [
        "Para utilizar o **else** não colocamos booleano, somente dois pontos (:)"
      ]
    },
    {
      "cell_type": "code",
      "metadata": {
        "id": "0vPD-uEWIkR7",
        "colab_type": "code",
        "colab": {}
      },
      "source": [
        "numero = 2\n",
        "if numero > 2:\n",
        "    print('o número é maior que 2')\n",
        "else:\n",
        "    print('o número é menor ou igual a 2')"
      ],
      "execution_count": null,
      "outputs": []
    },
    {
      "cell_type": "markdown",
      "metadata": {
        "id": "KwCDrtQYIkR8",
        "colab_type": "text"
      },
      "source": [
        "Para utilizar o **elif**  precisamos colocar um booleano e dois pontos (:)"
      ]
    },
    {
      "cell_type": "code",
      "metadata": {
        "id": "kHs_KG-KIkR8",
        "colab_type": "code",
        "colab": {}
      },
      "source": [
        "numero = 1\n",
        "if numero > 2:\n",
        "    print('o número é maior que 2')\n",
        "elif numero < 2:\n",
        "    print('o número é menor que 2')"
      ],
      "execution_count": null,
      "outputs": []
    },
    {
      "cell_type": "markdown",
      "metadata": {
        "id": "jgTHH6cOIkR_",
        "colab_type": "text"
      },
      "source": [
        "Ele irá entrar no primeiro que conseguir e não entrará nos demais."
      ]
    },
    {
      "cell_type": "code",
      "metadata": {
        "id": "K25tlduKIkSA",
        "colab_type": "code",
        "colab": {}
      },
      "source": [
        "numero = 2\n",
        "if numero > 2:\n",
        "    print('o número é maior que 2')\n",
        "elif numero < 2:\n",
        "    print('o número é menor que 2')\n",
        "else:\n",
        "    print('o número não é maior nem menor que 2')"
      ],
      "execution_count": null,
      "outputs": []
    },
    {
      "cell_type": "markdown",
      "metadata": {
        "id": "ICHoZVwGIkSC",
        "colab_type": "text"
      },
      "source": [
        "Exemplo para verificar se contem a letra 'a'"
      ]
    },
    {
      "cell_type": "code",
      "metadata": {
        "id": "NirA2TSCIkSD",
        "colab_type": "code",
        "colab": {}
      },
      "source": [
        "texto = input('Insira um texto: ')\n",
        "if texto.count('a') > 0:\n",
        "    print('Esse texto contêm a letra a')"
      ],
      "execution_count": null,
      "outputs": []
    },
    {
      "cell_type": "markdown",
      "metadata": {
        "id": "8MjdrtxCIkSF",
        "colab_type": "text"
      },
      "source": [
        "Dois exemplos verificando se é inteiro."
      ]
    },
    {
      "cell_type": "code",
      "metadata": {
        "id": "FRFvpHSSIkSF",
        "colab_type": "code",
        "colab": {}
      },
      "source": [
        "variavel = 1.    # exemplo de inteiro\n",
        "\n",
        "if type(variavel) == int:\n",
        "    print('é um inteiro')\n",
        "else:\n",
        "    print('não é um inteiro')"
      ],
      "execution_count": null,
      "outputs": []
    },
    {
      "cell_type": "code",
      "metadata": {
        "id": "YymmjoNwIkSH",
        "colab_type": "code",
        "colab": {}
      },
      "source": [
        "variavel = 'a'    # exemplo de string\n",
        "\n",
        "if type(variavel) == int:\n",
        "    print('é um inteiro')\n",
        "else:\n",
        "    print('não é um inteiro')"
      ],
      "execution_count": null,
      "outputs": []
    },
    {
      "cell_type": "markdown",
      "metadata": {
        "id": "uptgvbxiIkSI",
        "colab_type": "text"
      },
      "source": [
        "Exemplo verificando qual é o tipo da variável, faça o exercício de alterar a variável para atingir todas as possibilidades."
      ]
    },
    {
      "cell_type": "code",
      "metadata": {
        "id": "G47jHn2jIkSI",
        "colab_type": "code",
        "colab": {}
      },
      "source": [
        "variavel = True    # exemplo de booleano\n",
        "\n",
        "if type(variavel) == str:\n",
        "    print('é uma string')\n",
        "elif type(variavel) == int:\n",
        "    print('é um inteiro')\n",
        "elif type(variavel) == float:\n",
        "    print('é um numero real')\n",
        "elif type(variavel) == bool:\n",
        "    print('é um booleano')\n",
        "else:\n",
        "    print('não sei o que é')"
      ],
      "execution_count": null,
      "outputs": []
    },
    {
      "cell_type": "markdown",
      "metadata": {
        "id": "2pCyJ_XaIkSK",
        "colab_type": "text"
      },
      "source": [
        "**Ex 27:** Escreva um código que:\n",
        "- Recebe um **input** de texto.\n",
        "- Mede o tamanho do texto e armazena em uma outra variável\n",
        "- Verifica se o tamanho é maior que 4, caso positivo amostra o tamanho dele.\n",
        "- Caso negativo amostra o próprio texto."
      ]
    },
    {
      "cell_type": "code",
      "metadata": {
        "id": "FiKzBxGKIkSK",
        "colab_type": "code",
        "colab": {}
      },
      "source": [
        ""
      ],
      "execution_count": null,
      "outputs": []
    }
  ]
}